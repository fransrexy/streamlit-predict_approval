{
 "cells": [
  {
   "attachments": {},
   "cell_type": "markdown",
   "id": "0c0937fd",
   "metadata": {},
   "source": [
    "## IMPORT LIBRARY AND DATA"
   ]
  },
  {
   "cell_type": "code",
   "execution_count": null,
   "id": "fc1fec51",
   "metadata": {},
   "outputs": [],
   "source": [
    "import numpy as np\n",
    "import matplotlib.pyplot as plt\n",
    "import pandas as pd\n",
    "import seaborn as sns\n",
    "import pickle\n",
    "\n",
    "from sklearn.model_selection import train_test_split\n",
    "from sklearn.linear_model import LogisticRegression\n",
    "from sklearn.metrics import classification_report, confusion_matrix, accuracy_score\n",
    "from sklearn.preprocessing import LabelEncoder\n",
    "from sklearn import preprocessing\n",
    "from sklearn.tree import DecisionTreeClassifier\n",
    "from sklearn.ensemble import RandomForestClassifier\n",
    "from imblearn.under_sampling import RandomUnderSampler\n",
    "from imblearn.over_sampling import RandomOverSampler\n",
    "from sklearn.model_selection import cross_val_score, cross_val_predict, cross_val_predict"
   ]
  },
  {
   "cell_type": "code",
   "execution_count": null,
   "id": "2ae94e96",
   "metadata": {},
   "outputs": [],
   "source": [
    "ar = pd.read_csv(\"application_record.csv\")\n",
    "cr = pd.read_csv(\"credit_record.csv\")"
   ]
  },
  {
   "attachments": {},
   "cell_type": "markdown",
   "id": "63802f68",
   "metadata": {},
   "source": [
    "## DATA PREPARATION\n"
   ]
  },
  {
   "cell_type": "code",
   "execution_count": null,
   "id": "8957a4b0",
   "metadata": {},
   "outputs": [],
   "source": [
    "ar.info()"
   ]
  },
  {
   "cell_type": "code",
   "execution_count": null,
   "id": "4a9d1925",
   "metadata": {},
   "outputs": [],
   "source": [
    "cr.info()"
   ]
  },
  {
   "attachments": {},
   "cell_type": "markdown",
   "id": "3b3b2f49",
   "metadata": {},
   "source": [
    "#### Add New Calculated Column"
   ]
  },
  {
   "cell_type": "code",
   "execution_count": null,
   "id": "b7af431d",
   "metadata": {},
   "outputs": [],
   "source": [
    "ar[\"AGE\"] = (ar.DAYS_BIRTH * -1) // 365"
   ]
  },
  {
   "cell_type": "code",
   "execution_count": null,
   "id": "7c20d0fa",
   "metadata": {},
   "outputs": [],
   "source": [
    "ar = ar.replace(365243,0)"
   ]
  },
  {
   "cell_type": "code",
   "execution_count": null,
   "id": "879e9c4a",
   "metadata": {},
   "outputs": [],
   "source": [
    "ar[\"WORKING_YEAR\"] = np.where(((ar.DAYS_EMPLOYED) > -365) & ((ar.DAYS_EMPLOYED) < 0), \n",
    "                              1, (ar.DAYS_EMPLOYED * -1) // 365)"
   ]
  },
  {
   "attachments": {},
   "cell_type": "markdown",
   "id": "68dea7fa",
   "metadata": {},
   "source": [
    "#### Handling Missing Value "
   ]
  },
  {
   "cell_type": "code",
   "execution_count": null,
   "id": "b72a34d8",
   "metadata": {},
   "outputs": [],
   "source": [
    "ar['OCCUPATION_TYPE'] = np.where((ar['OCCUPATION_TYPE'].isnull()) & (ar['WORKING_YEAR'] == 0), \n",
    "                                 'Not working', ar['OCCUPATION_TYPE'])"
   ]
  },
  {
   "cell_type": "code",
   "execution_count": null,
   "id": "1b1857fd",
   "metadata": {},
   "outputs": [],
   "source": [
    "ar['OCCUPATION_TYPE'] = ar['OCCUPATION_TYPE'].replace(np.nan,'Others')"
   ]
  },
  {
   "attachments": {},
   "cell_type": "markdown",
   "id": "eff10419",
   "metadata": {},
   "source": [
    "#### Data Transformation"
   ]
  },
  {
   "cell_type": "code",
   "execution_count": null,
   "id": "b0096170",
   "metadata": {},
   "outputs": [],
   "source": [
    "ar.CODE_GENDER = ar.CODE_GENDER.map({\"F\":0,\"M\":1})\n",
    "ar.FLAG_OWN_CAR = ar.FLAG_OWN_CAR.map({\"N\":0,\"Y\":1})\n",
    "ar.FLAG_OWN_REALTY = ar.FLAG_OWN_REALTY.map({\"N\":0,\"Y\":1})"
   ]
  },
  {
   "cell_type": "code",
   "execution_count": null,
   "id": "774511fc",
   "metadata": {},
   "outputs": [],
   "source": [
    "features = ['NAME_INCOME_TYPE', 'NAME_EDUCATION_TYPE', 'NAME_FAMILY_STATUS', 'NAME_HOUSING_TYPE', 'OCCUPATION_TYPE']\n",
    "\n",
    "for col in features:\n",
    "    le = preprocessing.LabelEncoder()\n",
    "    ar[col] = le.fit_transform(ar[col].values)"
   ]
  },
  {
   "cell_type": "code",
   "execution_count": null,
   "id": "f89c67bd",
   "metadata": {},
   "outputs": [],
   "source": [
    "cr.STATUS = cr.STATUS.map({\"X\":1,\"C\":1, \"0\":1, \"1\":0, \"2\":0, \"3\":0, \"4\":0, \"5\":0})"
   ]
  },
  {
   "cell_type": "code",
   "execution_count": null,
   "id": "be6dca68",
   "metadata": {},
   "outputs": [],
   "source": [
    "grouped = cr.groupby('ID')\n",
    "pivot_tb = cr.pivot(index = 'ID', columns = 'MONTHS_BALANCE', values = 'STATUS')"
   ]
  },
  {
   "attachments": {},
   "cell_type": "markdown",
   "id": "9b396b16",
   "metadata": {},
   "source": [
    "#### Status Classification"
   ]
  },
  {
   "cell_type": "code",
   "execution_count": null,
   "id": "f1069091",
   "metadata": {},
   "outputs": [],
   "source": [
    "#Counting number of good and bad record.\n",
    "pivot_tb['GOOD'] = pivot_tb[pivot_tb.iloc[:,0:61] == 1].count(axis = 1)\n",
    "pivot_tb['BAD'] = pivot_tb[pivot_tb.iloc[:,0:61] == 0].count(axis = 1)"
   ]
  },
  {
   "cell_type": "code",
   "execution_count": null,
   "id": "761d0cdc",
   "metadata": {},
   "outputs": [],
   "source": [
    "pivot_tb.reset_index(inplace=True)"
   ]
  },
  {
   "cell_type": "code",
   "execution_count": null,
   "id": "6653ae4b",
   "metadata": {},
   "outputs": [],
   "source": [
    "pivot_tb['STATUS'] = np.where(((pivot_tb['GOOD'] < pivot_tb['BAD']) | (pivot_tb[0] == 0) \n",
    "                               | (pivot_tb[-1] == 0) | (pivot_tb[-2] == 0)), 0, 1)"
   ]
  },
  {
   "attachments": {},
   "cell_type": "markdown",
   "id": "45b2d59e",
   "metadata": {},
   "source": [
    "#### Join Table"
   ]
  },
  {
   "cell_type": "code",
   "execution_count": null,
   "id": "cbd3cad7",
   "metadata": {},
   "outputs": [],
   "source": [
    "datacredit = ar.merge(pivot_tb, how='inner', on=['ID'])"
   ]
  },
  {
   "cell_type": "code",
   "execution_count": null,
   "id": "05aacce6",
   "metadata": {},
   "outputs": [],
   "source": [
    "datacredit.info()"
   ]
  },
  {
   "cell_type": "code",
   "execution_count": null,
   "id": "2198ae48",
   "metadata": {},
   "outputs": [],
   "source": [
    "del datacredit[\"DAYS_BIRTH\"]\n",
    "del datacredit[\"DAYS_EMPLOYED\"]"
   ]
  },
  {
   "cell_type": "code",
   "execution_count": null,
   "id": "974a5d13",
   "metadata": {},
   "outputs": [],
   "source": [
    "datacredit.drop(datacredit.iloc[:, -64:-1], inplace=True, axis=1)"
   ]
  },
  {
   "cell_type": "code",
   "execution_count": null,
   "id": "a50d7806",
   "metadata": {},
   "outputs": [],
   "source": [
    "# datacredit = datacredit.drop(['ID', 'FLAG_MOBIL'], axis=1)\n",
    "datacredit = datacredit.drop(['ID', 'FLAG_MOBIL', 'FLAG_EMAIL', 'CODE_GENDER', 'CNT_CHILDREN', \n",
    "                              'NAME_HOUSING_TYPE', 'FLAG_WORK_PHONE', 'CNT_FAM_MEMBERS','FLAG_OWN_CAR', \n",
    "                              'FLAG_OWN_REALTY', 'FLAG_PHONE', 'NAME_INCOME_TYPE'], axis=1)"
   ]
  },
  {
   "attachments": {},
   "cell_type": "markdown",
   "id": "51e2dd34",
   "metadata": {},
   "source": [
    "#### Drop Duplicate"
   ]
  },
  {
   "cell_type": "code",
   "execution_count": null,
   "id": "cafd1783",
   "metadata": {},
   "outputs": [],
   "source": [
    "datacredit = datacredit.drop_duplicates()"
   ]
  },
  {
   "cell_type": "code",
   "execution_count": null,
   "id": "d860a976",
   "metadata": {},
   "outputs": [],
   "source": [
    "datacredit.groupby('STATUS').size()"
   ]
  },
  {
   "cell_type": "code",
   "execution_count": null,
   "id": "e0c4dddd",
   "metadata": {},
   "outputs": [],
   "source": [
    "#plt.figure(figsize=(18, 8))\n",
    "#heatmap = sns.heatmap(datacredit.corr(), vmin=-1, vmax=1, annot=True, cmap='BrBG')\n",
    "#heatmap.set_title('Correlation Heatmap', fontdict={'fontsize':10}, pad=12);\n",
    "#plt.show()"
   ]
  },
  {
   "cell_type": "code",
   "execution_count": null,
   "id": "a5e171a5",
   "metadata": {},
   "outputs": [],
   "source": [
    "datacredit.head(10)"
   ]
  },
  {
   "attachments": {},
   "cell_type": "markdown",
   "id": "dbb76014",
   "metadata": {},
   "source": [
    "## MODELING"
   ]
  },
  {
   "cell_type": "code",
   "execution_count": null,
   "id": "54841a84",
   "metadata": {},
   "outputs": [],
   "source": [
    "X = datacredit.drop(['STATUS'],axis=1)\n",
    "y = datacredit.STATUS"
   ]
  },
  {
   "cell_type": "code",
   "execution_count": null,
   "id": "7873e716",
   "metadata": {},
   "outputs": [],
   "source": [
    "# #over sampling, imbalanced data\n",
    "ros = RandomOverSampler(random_state=0)\n",
    "X_res, y_res = ros.fit_resample(X,y)\n",
    "y_res.value_counts()"
   ]
  },
  {
   "cell_type": "code",
   "execution_count": null,
   "id": "48f4fff0",
   "metadata": {},
   "outputs": [],
   "source": [
    "# split untuk oversampling\n",
    "X_train, X_test, y_train, y_test = train_test_split(X_res, y_res, test_size=0.35, random_state=0)"
   ]
  },
  {
   "attachments": {},
   "cell_type": "markdown",
   "id": "8d3ab704",
   "metadata": {},
   "source": [
    "#### MODEL 1 -- LOGISTIC REGRESSION"
   ]
  },
  {
   "cell_type": "code",
   "execution_count": null,
   "id": "ea335f73",
   "metadata": {},
   "outputs": [],
   "source": [
    "model1 = LogisticRegression()\n",
    "model1.fit(X_train, y_train)\n",
    "y_predict = model1.predict(X_test)\n",
    "print('Accuracy Score is' ,accuracy_score(y_test,y_predict))"
   ]
  },
  {
   "cell_type": "code",
   "execution_count": null,
   "id": "1e636f68",
   "metadata": {},
   "outputs": [],
   "source": [
    "y_predictl = model1.predict(X_train)\n",
    "print('Accuracy Score is' ,accuracy_score(y_train,y_predictl))"
   ]
  },
  {
   "cell_type": "code",
   "execution_count": null,
   "id": "f2754865",
   "metadata": {},
   "outputs": [],
   "source": [
    "print(classification_report(y_test, y_predict))"
   ]
  },
  {
   "cell_type": "code",
   "execution_count": null,
   "id": "319aead6",
   "metadata": {},
   "outputs": [],
   "source": [
    "f, ax = plt.subplots(figsize=(8,5))\n",
    "sns.heatmap(confusion_matrix(y_test, y_predict), annot=True, fmt=\".0f\", ax=ax)\n",
    "plt.xlabel(\"Predict\")\n",
    "plt.ylabel(\"Actual\")\n",
    "plt.show()"
   ]
  },
  {
   "cell_type": "code",
   "execution_count": null,
   "id": "4e7f2102",
   "metadata": {},
   "outputs": [],
   "source": [
    "feature_names = X_res.columns\n",
    "importances = model1.coef_[0]\n",
    "forest_importances = pd.Series(importances, index=feature_names)\n",
    "\n",
    "fig, ax = plt.subplots()\n",
    "bars = ax.barh(feature_names, forest_importances)\n",
    "ax.bar_label(bars)\n",
    "ax.set_title(\"Feature importances using MDI\")\n",
    "ax.set_ylabel(\"Mean decrease in impurity\")\n",
    "fig.tight_layout()"
   ]
  },
  {
   "attachments": {},
   "cell_type": "markdown",
   "id": "1fe47747",
   "metadata": {},
   "source": [
    "#### Metode K-fold pada Logistic Regression"
   ]
  },
  {
   "cell_type": "code",
   "execution_count": null,
   "id": "9e9b4786",
   "metadata": {},
   "outputs": [],
   "source": [
    "cross_val_score (model1, X_res, y_res, cv=6)"
   ]
  },
  {
   "cell_type": "code",
   "execution_count": null,
   "id": "19a7e413",
   "metadata": {},
   "outputs": [],
   "source": [
    "cross_val_score (model1, X_res, y_res, cv=6).mean()"
   ]
  },
  {
   "cell_type": "code",
   "execution_count": null,
   "id": "c62d8871",
   "metadata": {},
   "outputs": [],
   "source": [
    "y_pred = cross_val_predict (model1, X_res, y_res, cv=5)"
   ]
  },
  {
   "cell_type": "code",
   "execution_count": null,
   "id": "0e97c560",
   "metadata": {},
   "outputs": [],
   "source": [
    "f, ax = plt.subplots(figsize=(8,5))\n",
    "sns.heatmap(confusion_matrix(y_res, y_pred), annot=True, fmt=\".0f\", ax=ax)\n",
    "plt.xlabel(\"Predict\")\n",
    "plt.ylabel(\"Actual\")\n",
    "plt.show()"
   ]
  },
  {
   "attachments": {},
   "cell_type": "markdown",
   "id": "19f7846a",
   "metadata": {},
   "source": [
    "#### MODEL 2 -- DECISION TREE"
   ]
  },
  {
   "cell_type": "code",
   "execution_count": null,
   "id": "c3233655",
   "metadata": {},
   "outputs": [],
   "source": [
    "model2 = DecisionTreeClassifier(random_state=125)\n",
    "model2.fit(X_train, y_train)\n",
    "y_predict2 = model2.predict(X_test)\n",
    "print('Accuracy Score is' ,accuracy_score(y_test,y_predict2))"
   ]
  },
  {
   "cell_type": "code",
   "execution_count": null,
   "id": "ed447d5e",
   "metadata": {},
   "outputs": [],
   "source": [
    "y_predict2d = model2.predict(X_train)\n",
    "print('Accuracy Score is' ,accuracy_score(y_train,y_predict2d))"
   ]
  },
  {
   "cell_type": "code",
   "execution_count": null,
   "id": "7f454bb3",
   "metadata": {},
   "outputs": [],
   "source": [
    "print(classification_report(y_test, y_predict2))"
   ]
  },
  {
   "cell_type": "code",
   "execution_count": null,
   "id": "401d28b3",
   "metadata": {},
   "outputs": [],
   "source": [
    "f, ax = plt.subplots(figsize=(8,5))\n",
    "sns.heatmap(confusion_matrix(y_test, y_predict2), annot=True, fmt=\".0f\", ax=ax)\n",
    "plt.xlabel(\"Predict\")\n",
    "plt.ylabel(\"Actual\")\n",
    "plt.show()"
   ]
  },
  {
   "cell_type": "code",
   "execution_count": null,
   "id": "72394c85",
   "metadata": {},
   "outputs": [],
   "source": [
    "feature_names = X_res.columns\n",
    "importances = model2.feature_importances_\n",
    "forest_importances = pd.Series(importances, index=feature_names)\n",
    "\n",
    "fig, ax = plt.subplots()\n",
    "bars = ax.barh(feature_names, forest_importances)\n",
    "ax.bar_label(bars)\n",
    "ax.set_title(\"Feature importances using MDI\")\n",
    "ax.set_ylabel(\"Mean decrease in impurity\")\n",
    "fig.tight_layout()"
   ]
  },
  {
   "attachments": {},
   "cell_type": "markdown",
   "id": "c9ce2922",
   "metadata": {},
   "source": [
    "#### Metode K-fold pada Decision Tree"
   ]
  },
  {
   "cell_type": "code",
   "execution_count": null,
   "id": "6278fb07",
   "metadata": {},
   "outputs": [],
   "source": [
    "cross_val_score (model2, X_res, y_res, cv=6)"
   ]
  },
  {
   "cell_type": "code",
   "execution_count": null,
   "id": "6fead71c",
   "metadata": {},
   "outputs": [],
   "source": [
    "cross_val_score (model2, X_res, y_res, cv=6).mean()"
   ]
  },
  {
   "cell_type": "code",
   "execution_count": null,
   "id": "cd52ead4",
   "metadata": {},
   "outputs": [],
   "source": [
    "y_pred2 = cross_val_predict (model2, X_res, y_res, cv=5)"
   ]
  },
  {
   "cell_type": "code",
   "execution_count": null,
   "id": "3a474417",
   "metadata": {},
   "outputs": [],
   "source": [
    "f, ax = plt.subplots(figsize=(8,5))\n",
    "sns.heatmap(confusion_matrix(y_res, y_pred2), annot=True, fmt=\".0f\", ax=ax)\n",
    "plt.xlabel(\"Predict\")\n",
    "plt.ylabel(\"Actual\")\n",
    "plt.show()"
   ]
  },
  {
   "attachments": {},
   "cell_type": "markdown",
   "id": "da912690",
   "metadata": {},
   "source": [
    "#### MODEL 3 -- RANDOM FOREST"
   ]
  },
  {
   "cell_type": "code",
   "execution_count": null,
   "id": "771b2657",
   "metadata": {},
   "outputs": [],
   "source": [
    "model3 = RandomForestClassifier(random_state=125)\n",
    "model3.fit(X_train, y_train)\n",
    "y_predict3 = model3.predict(X_test)\n",
    "print('Accuracy Score is' ,accuracy_score(y_test,y_predict3))"
   ]
  },
  {
   "cell_type": "code",
   "execution_count": null,
   "id": "99a2904b",
   "metadata": {},
   "outputs": [],
   "source": [
    "y_predict3r = model3.predict(X_train)\n",
    "print('Accuracy Score is' ,accuracy_score(y_train,y_predict3r))"
   ]
  },
  {
   "cell_type": "code",
   "execution_count": null,
   "id": "56848c17",
   "metadata": {},
   "outputs": [],
   "source": [
    "print(classification_report(y_test, y_predict3))"
   ]
  },
  {
   "cell_type": "code",
   "execution_count": null,
   "id": "31df3613",
   "metadata": {},
   "outputs": [],
   "source": [
    "f, ax = plt.subplots(figsize=(8,5))\n",
    "sns.heatmap(confusion_matrix(y_test, y_predict3), annot=True, fmt=\".0f\", ax=ax)\n",
    "plt.xlabel(\"Predict\")\n",
    "plt.ylabel(\"Actual\")\n",
    "plt.show()"
   ]
  },
  {
   "cell_type": "code",
   "execution_count": null,
   "id": "8d5b9063",
   "metadata": {},
   "outputs": [],
   "source": [
    "feature_names = X_res.columns\n",
    "importances = model3.feature_importances_\n",
    "std = np.std([tree.feature_importances_ for tree in model3.estimators_], axis=0)\n",
    "forest_importances = pd.Series(importances, index=feature_names)\n",
    "forest_importances_sorted = forest_importances.sort_values(ascending=True)\n",
    "\n",
    "fig, ax = plt.subplots()\n",
    "bars = ax.barh(forest_importances_sorted.index, forest_importances_sorted)\n",
    "ax.bar_label(bars)\n",
    "ax.set_title(\"Feature importances using MDI\")\n",
    "ax.set_ylabel(\"Mean decrease in impurity\")\n",
    "fig.tight_layout()"
   ]
  },
  {
   "attachments": {},
   "cell_type": "markdown",
   "id": "99bc08f4",
   "metadata": {},
   "source": [
    "#### Metode K-fold pada Random Forest"
   ]
  },
  {
   "cell_type": "code",
   "execution_count": null,
   "id": "cde249e9",
   "metadata": {},
   "outputs": [],
   "source": [
    "cross_val_score (model3, X_res, y_res, cv=6)"
   ]
  },
  {
   "cell_type": "code",
   "execution_count": null,
   "id": "0a1cdaea",
   "metadata": {},
   "outputs": [],
   "source": [
    "cross_val_score (model3, X_res, y_res, cv=6).mean()"
   ]
  },
  {
   "cell_type": "code",
   "execution_count": null,
   "id": "3081f4a5",
   "metadata": {},
   "outputs": [],
   "source": [
    "y_pred3 = cross_val_predict (model3, X_res, y_res, cv=5)"
   ]
  },
  {
   "cell_type": "code",
   "execution_count": null,
   "id": "a652c218",
   "metadata": {},
   "outputs": [],
   "source": [
    "f, ax = plt.subplots(figsize=(8,5))\n",
    "sns.heatmap(confusion_matrix(y_res, y_pred3), annot=True, fmt=\".0f\", ax=ax)\n",
    "plt.xlabel(\"Predict\")\n",
    "plt.ylabel(\"Actual\")\n",
    "plt.show()"
   ]
  },
  {
   "attachments": {},
   "cell_type": "markdown",
   "id": "2952afd6",
   "metadata": {},
   "source": [
    "### SAVE MODEL"
   ]
  },
  {
   "cell_type": "code",
   "execution_count": null,
   "id": "13f208d4",
   "metadata": {},
   "outputs": [],
   "source": [
    "filename = 'credit_model.sav'\n",
    "pickle.dump(model3,open(filename, 'wb'))"
   ]
  }
 ],
 "metadata": {
  "kernelspec": {
   "display_name": "Python 3",
   "language": "python",
   "name": "python3"
  },
  "language_info": {
   "codemirror_mode": {
    "name": "ipython",
    "version": 3
   },
   "file_extension": ".py",
   "mimetype": "text/x-python",
   "name": "python",
   "nbconvert_exporter": "python",
   "pygments_lexer": "ipython3",
   "version": "3.7.6"
  },
  "vscode": {
   "interpreter": {
    "hash": "cab8ac21c3a087d265164f46afebec18edb87390ebf522c173baaffbfdbe86fb"
   }
  }
 },
 "nbformat": 4,
 "nbformat_minor": 5
}
